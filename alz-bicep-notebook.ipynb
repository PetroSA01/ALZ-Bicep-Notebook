{
 "cells": [
  {
   "attachments": {},
   "cell_type": "markdown",
   "metadata": {
    "dotnet_interactive": {
     "language": "pwsh"
    },
    "polyglot_notebook": {
     "kernelName": "pwsh"
    }
   },
   "source": [
    "# Azure Landing Zones"
   ]
  },
  {
   "attachments": {},
   "cell_type": "markdown",
   "metadata": {
    "dotnet_interactive": {
     "language": "pwsh"
    },
    "polyglot_notebook": {
     "kernelName": "pwsh"
    }
   },
   "source": [
    "Note: The below is for deploying to Azure global regions only. **NOT** for deploying to Azure China regions. This is due to minor difference in services which are available in Azure global and in Azure China, but the feature parity gap is narrowing."
   ]
  },
  {
   "attachments": {},
   "cell_type": "markdown",
   "metadata": {
    "dotnet_interactive": {
     "language": "pwsh"
    },
    "polyglot_notebook": {
     "kernelName": "pwsh"
    }
   },
   "source": [
    "## Connection"
   ]
  },
  {
   "cell_type": "code",
   "execution_count": null,
   "metadata": {
    "dotnet_interactive": {
     "language": "pwsh"
    },
    "polyglot_notebook": {
     "kernelName": "pwsh"
    },
    "vscode": {
     "languageId": "polyglot-notebook"
    }
   },
   "outputs": [],
   "source": [
    "$subscription   = ''\n",
    "\n",
    "Connect-AzAccount -SubscriptionId $subscription"
   ]
  },
  {
   "cell_type": "code",
   "execution_count": null,
   "metadata": {
    "dotnet_interactive": {
     "language": "pwsh"
    },
    "polyglot_notebook": {
     "kernelName": "pwsh"
    },
    "vscode": {
     "languageId": "polyglot-notebook"
    }
   },
   "outputs": [],
   "source": [
    "Get-AzSubscription | fl *"
   ]
  },
  {
   "attachments": {},
   "cell_type": "markdown",
   "metadata": {
    "dotnet_interactive": {
     "language": "pwsh"
    },
    "polyglot_notebook": {
     "kernelName": "pwsh"
    }
   },
   "source": [
    "## ALZ-Bicep Initial Setup"
   ]
  },
  {
   "cell_type": "code",
   "execution_count": null,
   "metadata": {
    "dotnet_interactive": {
     "language": "pwsh"
    },
    "polyglot_notebook": {
     "kernelName": "pwsh"
    },
    "vscode": {
     "languageId": "polyglot-notebook"
    }
   },
   "outputs": [],
   "source": [
    "## ALZ-BICEP SETUP\n",
    "## ================================================================================\n",
    "\n",
    "$localRepo          = \"C:/Git/ALZ-Bicep\"\n",
    "\n",
    "$parLocation        = \"southafricanorth\"        # Deplopyment Region\n",
    "$parCompanyPrefix   = \"alz\"                 # default=\"alz\", min 2-chars max 10-chars\n",
    "$TopLevelMGPrefix   = $parCompanyPrefix\n",
    "\n",
    "## Management Group Parameters\n",
    "## ================================================================================\n",
    "$parTopLevelManagementGroupPrefix       = $parCompanyPrefix\n",
    "$parTopLevelManagementGroupDisplayName  = $parCompanyPrefix + \" Azure Landing Zones\"\n",
    "$parTopLevelManagementGroupParentId     = \"\"    # Intermediate root Management Group\n",
    "$parLandingZoneMgAlzDefaultsEnable      = 0     # Default=True(1) - Corp and Online default Landing Zones\n",
    "$parLandingZoneMgConfidentialEnable     = 0     # Default=False(0) - Confidential default Landing Zones\n",
    "$parLandingZoneMgChildren               = @{}    # Custom Landing Zones - Defaults = Corp & Online\n",
    "$parLandingZoneMgChildren              += @{\"ALZ01\" = @{'displayname'='AZL Test 01'}}\n",
    "$parLandingZoneMgChildren              += @{\"ALZ02\" = @{'displayname'='AZL Test 02'}}\n",
    "\n",
    "## Subscription IDs\n",
    "$PlatformSubscriptionId                     = $subscription     # Platform Management Group\n",
    "$ManagementSubscriptionId                   = \"\"                # Management Managment Grouo (Logging)\n",
    "$ConnectivitySubscriptionId                 = \"\"                # Connectivity Management Group\n",
    "\n",
    "if (!$ManagementSubscriptionId) { $ManagementSubscriptionId = $PlatformSubscriptionId }\n",
    "if (!$ConnectivitySubscriptionId) { $ConnectivitySubscriptionId = $PlatformSubscriptionId }\n",
    "\n",
    "## Subscription ID Placments\n",
    "## NOTE: Formated as:                       = @(\"xxxxxxxx-xxxx-xxxx-xxxx-xxxxxxxxxxxx\", \"yyyyyyyy-yyyy-yyyy-yyyy-yyyyyyyyyyyy\")\n",
    "##\n",
    "$parIntRootMgSubs                           = @()               # Intermediate Root Management Group Subs\n",
    "$parPlatformMgSubs                          = @()               # Platform Management Group Subs\n",
    "$parPlatformManagementMgSubs                = @()               # (Platform) Management Management Group Subs\n",
    "$parPlatformConnectivityMgSubs              = @()               # (Platform) Connectivity Management Group Subs\n",
    "$parPlatformIdentityMgSubs                  = @()               # (Platform) Identity Management Group\n",
    "$parLandingZonesMgSubs                      = @()               # Landing Zones Management Group Subs\n",
    "$parLandingZonesCorpMgSubs                  = @()               # Corp (Landing Zones) Management Group Subs             \n",
    "$parLandingZonesOnlineMgSubs                = @()               # Online (Landing Zones) Management Group Subs\n",
    "$parLandingZonesConfidentialCorpMgSubs      = @()               # Confidential Corp (Landing Zones) Management Group Subs\n",
    "$parLandingZonesConfidentialOnlineMgSubs    = @()               # Confidential Online (Landing Zones) Management Group Subs\n",
    "$parDecommissionedMgSubs                    = @()               # Decommissioned Management Group Subs\n",
    "$parSandboxMgSubs                           = @()               # Sandbox Management Group            \n",
    "\n",
    "$parLandingZoneMgChildrenSubs              = @{}                # Additional child Management Groups of the Landing Zones Management Group\n",
    "#$parLandingZoneMgChildrenSubs             += @{\"ALZ01\" = @{\"subscriptions\" = \"xxxxxxxx-xxxx-xxxx-xxxx-xxxxxxxxxxxx\", \"yyyyyyyy-yyyy-yyyy-yyyy-yyyyyyyyyyyy\"}}\n",
    "#$parLandingZoneMgChildrenSubs             += @{\"ALZ02\" = @{\"subscriptions\" = \"xxxxxxxx-xxxx-xxxx-xxxx-xxxxxxxxxxxx\", \"yyyyyyyy-yyyy-yyyy-yyyy-yyyyyyyyyyyy\"}}\n",
    "\n",
    "$parTags                                    =  @{\"ALZ\"      = $parCompanyPrefix;}\n",
    "$parTags                                    += @{\"Env\"      = \"Prod\"}\n",
    "#$parTags                                   += @{\"Owner\"    = \"replace_me@example.com\"}     \n",
    "\n",
    "$parTelemetryOptOut                         = 0                 # Default=False (0)\n",
    "\n",
    "#DEBUG\n",
    "#Write-Host \"<Test>`n\"\n",
    "#$parLandingZoneMgChildrenSubs\n",
    "#$parLandingZoneMgChildrenSubs.gettype()\n",
    "#Write-Host \"`n</Test>`n\"\n",
    "#/DEBUG\n",
    "\n",
    "Write-Host \"`n$(Get-Date) - Initial parameters set`n\""
   ]
  },
  {
   "attachments": {},
   "cell_type": "markdown",
   "metadata": {
    "dotnet_interactive": {
     "language": "pwsh"
    },
    "polyglot_notebook": {
     "kernelName": "pwsh"
    }
   },
   "source": [
    "## 1 Management Groups"
   ]
  },
  {
   "attachments": {},
   "cell_type": "markdown",
   "metadata": {
    "dotnet_interactive": {
     "language": "pwsh"
    },
    "polyglot_notebook": {
     "kernelName": "pwsh"
    }
   },
   "source": [
    "\n",
    "Configures the management group hierarchy to support Azure Landing Zone reference implementation.  \n",
    "**Prerequisites:** Owner role assignment at / root management group & ALZ-Bicep Initial Setup  \n",
    "**Reference:** https://github.com/Azure/ALZ-Bicep/tree/main/infra-as-code/bicep/modules/managementGroups"
   ]
  },
  {
   "cell_type": "code",
   "execution_count": null,
   "metadata": {
    "dotnet_interactive": {
     "language": "pwsh"
    },
    "polyglot_notebook": {
     "kernelName": "pwsh"
    },
    "vscode": {
     "languageId": "polyglot-notebook"
    }
   },
   "outputs": [],
   "source": [
    "## MANAGEMENT GROUPS DEPLOYMENT\n",
    "## ================================================================================\n",
    "\n",
    "## Management Group Configuration Object\n",
    "## ================================================================================\n",
    "$inputObject = @{\n",
    "  DeploymentName                        = $parCompanyPrefix + \"-MGDeployment-{0}\" -f (-join (Get-Date -Format 'yyyyMMddTHHMMssffffZ')[0..63])\n",
    "  Location                              = $parLocation\n",
    "  parTopLevelManagementGroupPrefix      = $parTopLevelManagementGroupPrefix\n",
    "  parTopLevelManagementGroupDisplayName = $parTopLevelManagementGroupDisplayName\n",
    "  parTopLevelManagementGroupParentId    = $parTopLevelManagementGroupParentId\n",
    "  parLandingZoneMgAlzDefaultsEnable     = $parLandingZoneMgAlzDefaultsEnable\n",
    "  parLandingZoneMgConfidentialEnable    = $parLandingZoneMgConfidentialEnable\n",
    "  parLandingZoneMgChildren              = $parLandingZoneMgChildren\n",
    "  TemplateFile                          = \"$localRepo/infra-as-code/bicep/modules/managementGroups/managementGroups.bicep\"\n",
    "  TemplateParameterFile                 = \"$localRepo/infra-as-code/bicep/modules/managementGroups/parameters/managementGroups.parameters.all.json\"\n",
    "}\n",
    "\n",
    "## Management Group TEST Deployment\n",
    "## ================================================================================\n",
    "$inputObject\n",
    "write-host `n\n",
    "New-AzTenantDeployment @inputObject -Verbose -WhatIf"
   ]
  },
  {
   "cell_type": "code",
   "execution_count": null,
   "metadata": {
    "dotnet_interactive": {
     "language": "pwsh"
    },
    "polyglot_notebook": {
     "kernelName": "pwsh"
    },
    "vscode": {
     "languageId": "polyglot-notebook"
    }
   },
   "outputs": [],
   "source": [
    "## Management Group Deployment *THIS IS NOT A TEST*\n",
    "## ================================================================================\n",
    "## NOTE: Test the deployment above and check the output is as expected\n",
    "##\n",
    "New-AzTenantDeployment @inputObject -Verbose"
   ]
  },
  {
   "attachments": {},
   "cell_type": "markdown",
   "metadata": {
    "dotnet_interactive": {
     "language": "pwsh"
    },
    "polyglot_notebook": {
     "kernelName": "pwsh"
    }
   },
   "source": [
    "## 2 Custom Policy Definitions\t"
   ]
  },
  {
   "cell_type": "markdown",
   "metadata": {
    "dotnet_interactive": {
     "language": "pwsh"
    },
    "polyglot_notebook": {
     "kernelName": "pwsh"
    }
   },
   "source": [
    "Configures Custom Policy Definitions at the organization management group.  \n",
    "**Prerequisites:** Management Groups  \n",
    "**Reference:**  https://github.com/Azure/ALZ-Bicep/tree/main/infra-as-code/bicep/modules/policy/definitions"
   ]
  },
  {
   "cell_type": "code",
   "execution_count": null,
   "metadata": {
    "dotnet_interactive": {
     "language": "pwsh"
    },
    "polyglot_notebook": {
     "kernelName": "pwsh"
    },
    "vscode": {
     "languageId": "polyglot-notebook"
    }
   },
   "outputs": [],
   "source": [
    "## CUSTOM POLICY DEFINITIONS\n",
    "## ================================================================================\n",
    "\n",
    "## Custom Policy Definitions Parameters\n",
    "## ================================================================================\n",
    "$parTargetManagementGroupId = $parCompanyPrefix\n",
    "\n",
    "## Custom Policy Definitions Configuration Object\n",
    "## ================================================================================\n",
    "$inputObject = @{\n",
    "  DeploymentName        = $parCompanyPrefix + \"-PolicyDefsDeployment-{0}\" -f (-join (Get-Date -Format 'yyyyMMddTHHMMssffffZ')[0..63])\n",
    "  Location              = $parLocation\n",
    "  ManagementGroupId     = $parCompanyPrefix\n",
    "  TemplateFile          = \"$localRepo\\infra-as-code/bicep/modules/policy/definitions/customPolicyDefinitions.bicep\"\n",
    "  TemplateParameterFile = \"$localRepo\\infra-as-code/bicep/modules/policy/definitions/parameters/customPolicyDefinitions.parameters.all.json\"  \n",
    "}\n",
    "if ($parTargetManagementGroupId) { $inputObject[\"parTargetManagementGroupId\"] = $parTargetManagementGroupId }\n",
    "\n",
    "## Custom Policy Definitions TEST Deployment\n",
    "## ================================================================================\n",
    "$inputObject\n",
    "write-host `n\n",
    "New-AzManagementGroupDeployment @inputObject -Verbose -WhatIf"
   ]
  },
  {
   "cell_type": "code",
   "execution_count": null,
   "metadata": {
    "dotnet_interactive": {
     "language": "pwsh"
    },
    "polyglot_notebook": {
     "kernelName": "pwsh"
    },
    "vscode": {
     "languageId": "polyglot-notebook"
    }
   },
   "outputs": [],
   "source": [
    "## Custom Policy Definitions Deployment *THIS IS NOT A TEST*\n",
    "## ================================================================================\n",
    "## NOTE: Test the deployment above and check the output is as expected\n",
    "##\n",
    "New-AzManagementGroupDeployment @inputObject -Verbose"
   ]
  },
  {
   "attachments": {},
   "cell_type": "markdown",
   "metadata": {
    "dotnet_interactive": {
     "language": "pwsh"
    },
    "polyglot_notebook": {
     "kernelName": "pwsh"
    }
   },
   "source": [
    "## 3 Custom RBAC Role Definitions"
   ]
  },
  {
   "cell_type": "markdown",
   "metadata": {
    "dotnet_interactive": {
     "language": "pwsh"
    },
    "polyglot_notebook": {
     "kernelName": "pwsh"
    }
   },
   "source": [
    "Configures custom roles based on Cloud Adoption Framework's recommendations at the organization management group.  \n",
    "**Prerequisites:** Management Groups.  \n",
    "**Reference:** https://github.com/Azure/ALZ-Bicep/tree/main/infra-as-code/bicep/modules/customRoleDefinitions "
   ]
  },
  {
   "cell_type": "code",
   "execution_count": null,
   "metadata": {
    "dotnet_interactive": {
     "language": "pwsh"
    },
    "polyglot_notebook": {
     "kernelName": "pwsh"
    },
    "vscode": {
     "languageId": "polyglot-notebook"
    }
   },
   "outputs": [],
   "source": [
    "## CUSTOM ROLE DEFINITIONS\n",
    "## ================================================================================\n",
    "\n",
    "## Custom Role Definitions Parameters\n",
    "## ================================================================================\n",
    "$parAssignableScopeManagementGroupId = $parCompanyPrefix\n",
    "\n",
    "## Custom Role Definitions Configuration Object\n",
    "## ================================================================================\n",
    "$inputObject = @{\n",
    "  DeploymentName        = $parCompanyPrefix + \"-CustomRoleDefsDeployment-{0}\" -f (-join (Get-Date -Format 'yyyyMMddTHHMMssffffZ')[0..63])\n",
    "  Location              = $parLocation\n",
    "  ManagementGroupId     = $parCompanyPrefix\n",
    "  TemplateFile          = \"$localRepo\\infra-as-code/bicep/modules/customRoleDefinitions/customRoleDefinitions.bicep\"\n",
    "  TemplateParameterFile = \"$localRepo\\infra-as-code/bicep/modules/customRoleDefinitions/parameters/customRoleDefinitions.parameters.all.json\"\n",
    "}\n",
    "if ($parAssignableScopeManagementGroupId) { $inputObject[\"parAssignableScopeManagementGroupId\"] = $parAssignableScopeManagementGroupId }\n",
    "\n",
    "## Custom Role Definitions TEST Deployment\n",
    "## ================================================================================\n",
    "New-AzManagementGroupDeployment @inputObject -Verbose -WhatIf"
   ]
  },
  {
   "cell_type": "code",
   "execution_count": null,
   "metadata": {
    "dotnet_interactive": {
     "language": "pwsh"
    },
    "polyglot_notebook": {
     "kernelName": "pwsh"
    },
    "vscode": {
     "languageId": "polyglot-notebook"
    }
   },
   "outputs": [],
   "source": [
    "## Custom Role Definitions Deployment *THIS IS NOT A TEST*\n",
    "## ================================================================================\n",
    "## NOTE: Test the deployment above and check the output is as expected\n",
    "##\n",
    "New-AzManagementGroupDeployment @inputObject -Verbose"
   ]
  },
  {
   "attachments": {},
   "cell_type": "markdown",
   "metadata": {
    "dotnet_interactive": {
     "language": "pwsh"
    },
    "polyglot_notebook": {
     "kernelName": "pwsh"
    }
   },
   "source": [
    "## 4 Logging & Security"
   ]
  },
  {
   "cell_type": "markdown",
   "metadata": {
    "dotnet_interactive": {
     "language": "pwsh"
    },
    "polyglot_notebook": {
     "kernelName": "pwsh"
    }
   },
   "source": [
    "Configures a centrally managed Log Analytics Workspace, Automation Account and Sentinel in the Logging subscription.  \n",
    "**Prerequisites:** Management Groups & Subscription for Log Analytics and Sentinel.  \n",
    "**Reference:** https://github.com/Azure/ALZ-Bicep/tree/main/infra-as-code/bicep/modules/logging"
   ]
  },
  {
   "cell_type": "code",
   "execution_count": null,
   "metadata": {
    "dotnet_interactive": {
     "language": "pwsh"
    },
    "polyglot_notebook": {
     "kernelName": "pwsh"
    },
    "vscode": {
     "languageId": "polyglot-notebook"
    }
   },
   "outputs": [],
   "source": [
    "## LOG ANALYTICS AND SENTINEL\n",
    "## ================================================================================\n",
    "\n",
    "## Log Analytics and Sentinel Parameters\n",
    "## ================================================================================\n",
    "\n",
    "$parLogAnalyticsWorkspaceName               = $parCompanyPrefix + \"-log-analytics\"\n",
    "$parLogAnalyticsWorkspaceLocation           = $parLocation\n",
    "$parLogAnalyticsWorkspaceSkuName            = \"PerGB2018\"     # Default value: PerGB2018\n",
    "                                                              # Allowed values: PerGB2018, CapacityReservation, LACluster (also legacy Skus: Free, PerNode, Premium, Standalone, Standard)\n",
    "$parLogAnalyticsWorkspaceLogRetentionInDays = \"30\"            # Default value: 365\n",
    "$parLogAnalyticsWorkspaceSolutions          = @('AgentHealthAssessment', 'AntiMalware', 'ChangeTracking', 'Security', 'SecurityInsights', 'ServiceMap', 'SQLAdvancedThreatProtection', 'SQLVulnerabilityAssessment', 'SQLAssessment', 'Updates', 'VMInsights')\n",
    "\n",
    "$parAutomationAccountName                   = $parCompanyPrefix + \"-automation-account\"\n",
    "$parAutomationAccountLocation               = $parLocation\n",
    "\n",
    "# Set Platform management subscripion ID\n",
    "if (!$ManagementSubscriptionId) { $ManagementSubscriptionId = $PlatformSubscriptionId }\n",
    "\n",
    "$myResourceGroupName    = \"rg-$parCompanyPrefix-logging-001\"\n",
    "\n",
    "## Log Analytics and Sentinel Configuration Object\n",
    "## ================================================================================\n",
    "\n",
    "$inputObject = @{\n",
    "  DeploymentName        = $parCompanyPrefix + \"-LoggingDeploy-{0}\" -f (-join (Get-Date -Format 'yyyyMMddTHHMMssffffZ')[0..63])\n",
    "  ResourceGroupName     = $myResourceGroupName\n",
    "  TemplateFile          = \"$localRepo/infra-as-code/bicep/modules/logging/logging.bicep\"\n",
    "  TemplateParameterFile = \"$localRepo/infra-as-code/bicep/modules/logging/parameters/logging.parameters.all.json\"\n",
    "  parTags               = $parTags \n",
    "}\n",
    "\n",
    "if ($parLogAnalyticsWorkspaceName) { $inputObject[\"parLogAnalyticsWorkspaceName\"] = $parLogAnalyticsWorkspaceName }\n",
    "if ($parLogAnalyticsWorkspaceLocation) { $inputObject[\"parLogAnalyticsWorkspaceLocation\"] = $parLogAnalyticsWorkspaceLocation }\n",
    "if ($parLogAnalyticsWorkspaceSkuName) { $inputObject[\"parLogAnalyticsWorkspaceSkuName\"] = $parLogAnalyticsWorkspaceSkuName }\n",
    "if ($parLogAnalyticsWorkspaceLogRetentionInDays) { $inputObject[\"parLogAnalyticsWorkspaceLogRetentionInDays\"] = $parLogAnalyticsWorkspaceLogRetentionInDays }\n",
    "if ($parLogAnalyticsWorkspaceSolutions) { $inputObject[\"parLogAnalyticsWorkspaceSolutions\"] = $parLogAnalyticsWorkspaceSolutions }\n",
    "if ($parAutomationAccountName) { $inputObject[\"parAutomationAccountName\"] = $parAutomationAccountName }\n",
    "if ($parAutomationAccountLocation) { $inputObject[\"parAutomationAccountLocation\"] = $parAutomationAccountLocation }\n",
    "\n",
    "Select-AzSubscription -SubscriptionId $ManagementSubscriptionId -Force \n",
    "\n",
    "if (!(Get-AzResourceGroup $myResourceGroupName -ErrorAction SilentlyContinue))\n",
    "{ \n",
    "  try \n",
    "  {\n",
    "    Write-Host \"`nCreating the $myResourceGroupName resource group`n\"\n",
    "    New-AzResourceGroup -Name $myResourceGroupName -Location $parLocation -ErrorAction SilentlyContinue\n",
    "  } \n",
    "  catch \n",
    "  { \n",
    "    Write-Host \"`nThere was an error creaating the $myResourceGroupName resource group`n\" -ForegroundColor Red\n",
    "    Break \n",
    "  }\n",
    "}\n",
    "else \n",
    "{\n",
    "  Write-Host \"`nThe $myResourceGroupName resource group already exists`n\"\n",
    "}\n",
    "\n",
    "## Log Analytics and Sentinel TEST Deployment\n",
    "## NOTE: The resource group will be created before the -WhatIf testing\n",
    "## ================================================================================\n",
    "New-AzResourceGroupDeployment @inputObject -Verbose -WhatIf"
   ]
  },
  {
   "cell_type": "code",
   "execution_count": null,
   "metadata": {
    "dotnet_interactive": {
     "language": "pwsh"
    },
    "polyglot_notebook": {
     "kernelName": "pwsh"
    },
    "vscode": {
     "languageId": "polyglot-notebook"
    }
   },
   "outputs": [],
   "source": [
    "$ManagementSubscriptionId"
   ]
  },
  {
   "cell_type": "code",
   "execution_count": null,
   "metadata": {
    "dotnet_interactive": {
     "language": "pwsh"
    },
    "polyglot_notebook": {
     "kernelName": "pwsh"
    },
    "vscode": {
     "languageId": "polyglot-notebook"
    }
   },
   "outputs": [],
   "source": [
    "## Log Analytics and Sentinel Deployment *THIS IS NOT A TEST*\n",
    "## ================================================================================\n",
    "## NOTE: Test the deployment above and check the output is as expected\n",
    "\n",
    "New-AzResourceGroupDeployment @inputObject -Verbose\n",
    "\n",
    "# Retrieve for Management Groups Diagnostics Module\n",
    "$parLogAnalyticsWorkspaceResourceId = (Get-AzResourceGroupDeployment -ResourceGroupName $myResourceGroupName -Name $inputObject[\"DeploymentName\"]).Outputs.outLogAnalyticsWorkspaceId.value"
   ]
  },
  {
   "attachments": {},
   "cell_type": "markdown",
   "metadata": {
    "dotnet_interactive": {
     "language": "pwsh"
    },
    "polyglot_notebook": {
     "kernelName": "pwsh"
    }
   },
   "source": [
    "### 4.1 Management Groups Diagnostic Settings  "
   ]
  },
  {
   "cell_type": "markdown",
   "metadata": {
    "dotnet_interactive": {
     "language": "pwsh"
    },
    "polyglot_notebook": {
     "kernelName": "pwsh"
    }
   },
   "source": [
    "Enable Diagnostic Settings for management Groups to the Log Analytics Workspace created in the Logging subscription.  \n",
    "**Prerequisites:** Management Groups & Log Analytics Workspace.  \n",
    "https://github.com/Azure/ALZ-Bicep/tree/main/infra-as-code/bicep/orchestration/mgDiagSettingsAll "
   ]
  },
  {
   "cell_type": "code",
   "execution_count": null,
   "metadata": {
    "dotnet_interactive": {
     "language": "pwsh"
    },
    "polyglot_notebook": {
     "kernelName": "pwsh"
    },
    "vscode": {
     "languageId": "polyglot-notebook"
    }
   },
   "outputs": [],
   "source": [
    "## MANAGEMENT GROUPS DIAGNOSTICS SETTING\n",
    "## ================================================================================\n",
    "\n",
    "## Management Groups Diagnostics Parameters\n",
    "## ================================================================================\n",
    "\n",
    "# Set in Management Group Deployment Module\n",
    "# $parTopLevelManagementGroupPrefix       = $parCompanyPrefix\n",
    "# $parLandingZoneMgAlzDefaultsEnable      = 0 \n",
    "# $parLandingZoneMgConfidentialEnable     = 0\n",
    "\n",
    "# Created in Log Analytics and Sentinel Module\n",
    "# $parLogAnalyticsWorkspaceResourceId = (Get-AzResourceGroupDeployment -ResourceGroupName $myResourceGroupName -Name $inputObject[\"DeploymentName\"]).Outputs.outLogAnalyticsWorkspaceId.value\n",
    "\n",
    "$parLandingZoneMgChildren               = \"ALZ01\",\"ALZ02\"   #NOTE: Automate this from Management Groups Definition\n",
    "\n",
    "## Management Groups Diagnostics Object\n",
    "## ================================================================================\n",
    "\n",
    "$inputObject = @{\n",
    "  DeploymentName                      = $parCompanyPrefix + \"-mgDiagSettingsAll-{0}\" -f (-join (Get-Date -Format 'yyyyMMddTHHMMssffffZ')[0..63])\n",
    "  Location                            = $parLocation\n",
    "  ManagementGroupId                   = $parCompanyPrefix\n",
    "  parTopLevelManagementGroupPrefix    = $parTopLevelManagementGroupPrefix      \n",
    "  parLandingZoneMgAlzDefaultsEnable   = $parLandingZoneMgAlzDefaultsEnable    \n",
    "  parLandingZoneMgConfidentialEnable  = $parLandingZoneMgConfidentialEnable  \n",
    "  parLogAnalyticsWorkspaceResourceId  = $parLogAnalyticsWorkspaceResourceId\n",
    "  TemplateFile          = \"$localRepo\\infra-as-code/bicep/orchestration/mgDiagSettingsAll/mgDiagSettingsAll.bicep\"\n",
    "  TemplateParameterFile = \"$localRepo\\infra-as-code/bicep/orchestration/mgDiagSettingsAll/parameters/mgDiagSettingsAll.parameters.all.json\"\n",
    "}\n",
    "\n",
    "if ($parLandingZoneMgChildren) { $inputObject[\"parLandingZoneMgChildren\"] = $parLandingZoneMgChildren }\n",
    "\n",
    "## Management Group Diagnostic Setting TEST Deployment\n",
    "## ================================================================================\n",
    "$inputObject\n",
    "write-host `n\n",
    "New-AzManagementGroupDeployment @inputObject -Verbose -WhatIf -DeploymentDebugLogLevel All"
   ]
  },
  {
   "cell_type": "code",
   "execution_count": null,
   "metadata": {
    "dotnet_interactive": {
     "language": "pwsh"
    },
    "polyglot_notebook": {
     "kernelName": "pwsh"
    },
    "vscode": {
     "languageId": "polyglot-notebook"
    }
   },
   "outputs": [],
   "source": [
    "## Management Groups Diagnostic Settings Deployment *THIS IS NOT A TEST*\n",
    "## ================================================================================\n",
    "## NOTE: Test the deployment above and check the output is as expected\n",
    "##\n",
    "New-AzManagementGroupDeployment @inputObject -Verbose"
   ]
  },
  {
   "attachments": {},
   "cell_type": "markdown",
   "metadata": {
    "dotnet_interactive": {
     "language": "pwsh"
    },
    "polyglot_notebook": {
     "kernelName": "pwsh"
    }
   },
   "source": [
    "## 5 Hub Networking\n"
   ]
  },
  {
   "cell_type": "markdown",
   "metadata": {
    "dotnet_interactive": {
     "language": "pwsh"
    },
    "polyglot_notebook": {
     "kernelName": "pwsh"
    }
   },
   "source": [
    "Azure supports two types of hub-and-spoke design, VNet hub and Virtual WAN hub. Creates resources in the Connectivity subscription.  \n",
    "**Prerequisites:** Management Groups, Subscription for Hub Networking.  \n",
    "https://github.com/Azure/ALZ-Bicep/tree/main/infra-as-code/bicep/modules/hubNetworking "
   ]
  },
  {
   "attachments": {},
   "cell_type": "markdown",
   "metadata": {
    "dotnet_interactive": {
     "language": "pwsh"
    },
    "polyglot_notebook": {
     "kernelName": "pwsh"
    }
   },
   "source": [
    "### 5.1 Hub and Spoke VNet"
   ]
  },
  {
   "cell_type": "markdown",
   "metadata": {
    "dotnet_interactive": {
     "language": "pwsh"
    },
    "polyglot_notebook": {
     "kernelName": "pwsh"
    }
   },
   "source": [
    "\n",
    "Creates Hub networking infrastructure with Azure Firewall to support Hub & Spoke network topology in the Connectivity subscription.  \n",
    "**Prerequisites:** Management Groups, Subscription for Hub Networking.  \n",
    "https://github.com/Azure/ALZ-Bicep/tree/main/infra-as-code/bicep/modules/hubNetworking\n",
    "\n",
    "Can deploy the following resources:  \n",
    "1. Virtual Network (VNet)\n",
    "2. Subnets\n",
    "3. VPN Gateway/ExpressRoute Gateway\n",
    "4. Azure Firewall\n",
    "5. Azure Firewall Policies\n",
    "6. Private DNS Zones\n",
    "7. DDoS Network Protection Plan\n",
    "8. Bastion\n",
    "9. Route Table"
   ]
  },
  {
   "cell_type": "code",
   "execution_count": null,
   "metadata": {
    "dotnet_interactive": {
     "language": "pwsh"
    },
    "polyglot_notebook": {
     "kernelName": "pwsh"
    },
    "vscode": {
     "languageId": "polyglot-notebook"
    }
   },
   "outputs": [],
   "source": [
    "## HUB NETWORKING - HUB AND SPOKE VNET\n",
    "## ================================================================================\n",
    "\n",
    "## Parameters\n",
    "## --------------------------------------------------------------------------------\n",
    "$parHubNetworkName                  = \"vnet-\" + $parCompanyPrefix + \"-hub-\" + $parLocation \n",
    "$parHubNetworkAddressPrefix         = \"10.20.0.0/16\"\n",
    "\n",
    "## Subnet Parameters\n",
    "## --------------------------------------------------------------------------------\n",
    "$AzureBastionSubnet                 = \"10.20.15.0/24\"\n",
    "$GatewaySubnet                      = \"10.20.252.0/24\"\n",
    "$AzureFirewallSubnet                = \"10.20.254.0/24\"\n",
    "\n",
    "## Bastion Host Parameters\n",
    "## --------------------------------------------------------------------------------\n",
    "$parAzBastionEnabled                = 0   # Default=True (1)\n",
    "#$parAzBastionName                  = $parCompanyPrefix + \"-bastion\"\n",
    "#$parAzBastionSku                   = \"Standard\"\n",
    "#$parAzBastionNsgName               = \"nsg-AzureBastionSubnet\"\n",
    "\n",
    "## DDoS Network Protection Parameters\n",
    "## --------------------------------------------------------------------------------\n",
    "$parDdosEnabled                     = 0   # Default=True (1)\n",
    "#$parDdosPlanName                   = $parCompanyPrefix + \"ddos-plan\"\n",
    "\n",
    "## Azure Firewall Parameters\n",
    "## --------------------------------------------------------------------------------\n",
    "$parAzFirewallEnabled               = 0   # Default=True (1)\n",
    "#$parAzFirewallName                 = \"alz-azfw-eastus\"\n",
    "#$parAzFirewallPoliciesName         = \"alz-azfwpolicy-eastus\"\n",
    "#$parAzFirewallTier                 = \"Standard\"\n",
    "#$parAzFirewallAvailabilityZones    = \"\"\n",
    "#$parAzFirewallDnsProxyEnabled      = 0   # Default=True (1)\n",
    "\n",
    "## TO DO\n",
    "#parAzFirewallAvailabilityZones     = \"\"\n",
    "#parAzErGatewayAvailabilityZones    = \"\"\n",
    "#parAzVpnGatewayAvailabilityZones   = \"\"\n",
    "\n",
    "## VPN Gateway Parameters\n",
    "## --------------------------------------------------------------------------------\n",
    "## NOTE: See note below :/\n",
    "$parVpnGatewayConfig = @{ name                                = $parCompanyPrefix + \"-Vpn-Gateway\"; `\n",
    "                    \t    gatewayType                         = \"Vpn\"; `\n",
    "                          sku                                 = \"VpnGw1\"; `\n",
    "                          vpnType                             = \"RouteBased\"; `\n",
    "                          generation                          = \"Generation1\"; `\n",
    "                          enableBgp                           = 0; #False `\n",
    "                          activeActive                        = 0; #False `\n",
    "                          enableBgpRouteTranslationForNat     = 0; #False `\n",
    "                          enableDnsForwarding                 = 0; #False `\n",
    "                          asn                                 = \"65515\"; `\n",
    "                          bgpPeeringAddress                   = \"\"; `\n",
    "                          bgpsettings = @{ asn \t\t\t      = \"65515\"; `\n",
    "                                    \t   bgpPeeringAddress  = \"\"; `\n",
    "                                    \t   peerWeight         = \"5\" \n",
    "                          }\n",
    "}  \n",
    "## NOTE: Comment out this line if VPN Gateway *is* required\n",
    "$parVpnGatewayConfig = @{ 'name'    = \"noconfigVpn\" } \n",
    "## /NOTE\n",
    "\n",
    "## ExpressRoute Gateway Parameters\n",
    "## --------------------------------------------------------------------------------\n",
    "## NOTE: See note below :/\n",
    "$parExpressRouteGatewayConfig     =  @{ name                                = $parCompanyPrefix + \"-ExpressRoute-Gateway\"; `\n",
    "                                    gatewayType                         = \"ExpressRoute\"; `\n",
    "                                    sku                                 = \"Standard\"; `\n",
    "                                    vpnType                             = \"RouteBased\"; `\n",
    "                                    generation                          = \"None\"; `\n",
    "                                    enableBgp                           = 0; #False `\n",
    "                                    activeActive                        = 0; #False `\n",
    "                                    enableBgpRouteTranslationForNat     = 0; #False `\n",
    "                                    enableDnsForwarding                 = 0; #False `\n",
    "                                    asn                                 = \"65515\"; `\n",
    "                                    bgpPeeringAddress                   = \"\"; `\n",
    "                                    bgpsettings = @{ asn \t\t\t    = \"65515\"; `\n",
    "                                    \t\t\t\t bgpPeeringAddress  = \"\"; `\n",
    "                                    \t\t\t\t peerWeight         = \"5\" \n",
    "                                    }\n",
    "}\n",
    "## NOTE: Comment out this line if ER Gateway *IS* required\n",
    "$parExpressRouteGatewayConfig     = @{ 'name' = \"noconfigEr\" }\n",
    "## /NOTE\n",
    "\n",
    "\n",
    "\n",
    "\n",
    "$parHubRouteTableName = \"alz-hub-routetable\"\n",
    "$parDisableBgpRoutePropagation = 0      # Default=False (0)\n",
    "\n",
    "$parPrivateDnsZonesEnabled  = 1   # Default=True (1)\n",
    "\n",
    "## Other Parameters\n",
    "## --------------------------------------------------------------------------------\n",
    "\n",
    "\n",
    "\n",
    "\n",
    "## TO DO\n",
    "# $parDnsServerIps\n",
    "# parPublicIpSku\n",
    "\n",
    "\n",
    "Select-AzSubscription -SubscriptionId $ConnectivitySubscriptionId\n",
    "\n",
    "$TopLevelMGPrefix     = $parCompanyPrefix\n",
    "$myResourceGroupName  = \"rg-$TopLevelMGPrefix-hub-networking-001\"\n",
    "\n",
    "## NOTE: The DNS Zone privatelink.{dnsPrefix}.database.windows.net is not deployed \n",
    "## by default as the DNS Prefix is individual.\n",
    "$parPrivateDnsZones = @(\n",
    "      \"privatelink.$parLocation.azmk8s.io\",\n",
    "      \"privatelink.$parLocation.batch.azure.com\",\n",
    "      \"privatelink.$parLocation.kusto.windows.net\",\n",
    "        \"privatelink.adf.azure.com\",\n",
    "        \"privatelink.afs.azure.net\",\n",
    "        \"privatelink.agentsvc.azure-automation.net\",\n",
    "        \"privatelink.analysis.windows.net\",\n",
    "        \"privatelink.api.azureml.ms\",\n",
    "        \"privatelink.azconfig.io\",\n",
    "        \"privatelink.azure-api.net\",\n",
    "        \"privatelink.azure-automation.net\",\n",
    "        \"privatelink.azurecr.io\",\n",
    "        \"privatelink.azure-devices.net\",\n",
    "        \"privatelink.azure-devices-provisioning.net\",\n",
    "        \"privatelink.azurehdinsight.net\",\n",
    "        \"privatelink.azurehealthcareapis.com\",\n",
    "        \"privatelink.azurestaticapps.net\",\n",
    "        \"privatelink.azuresynapse.net\",\n",
    "        \"privatelink.azurewebsites.net\",\n",
    "        \"privatelink.batch.azure.com\",\n",
    "        \"privatelink.blob.core.windows.net\",\n",
    "        \"privatelink.cassandra.cosmos.azure.com\",\n",
    "        \"privatelink.cognitiveservices.azure.com\",\n",
    "        \"privatelink.database.windows.net\",\n",
    "        \"privatelink.datafactory.azure.net\",\n",
    "        \"privatelink.dev.azuresynapse.net\",\n",
    "        \"privatelink.dfs.core.windows.net\",\n",
    "        \"privatelink.dicom.azurehealthcareapis.com\",\n",
    "        \"privatelink.digitaltwins.azure.net\",\n",
    "        \"privatelink.directline.botframework.com\",\n",
    "        \"privatelink.documents.azure.com\",\n",
    "        \"privatelink.eventgrid.azure.net\",\n",
    "        \"privatelink.file.core.windows.net\",\n",
    "        \"privatelink.gremlin.cosmos.azure.com\",\n",
    "        \"privatelink.guestconfiguration.azure.com\",\n",
    "        \"privatelink.his.arc.azure.com\",\n",
    "        \"privatelink.kubernetesconfiguration.azure.com\",\n",
    "        \"privatelink.managedhsm.azure.net\",\n",
    "        \"privatelink.mariadb.database.azure.com\",\n",
    "        \"privatelink.media.azure.net\",\n",
    "        \"privatelink.mongo.cosmos.azure.com\",\n",
    "        \"privatelink.monitor.azure.com\",\n",
    "        \"privatelink.mysql.database.azure.com\",\n",
    "        \"privatelink.notebooks.azure.net\",\n",
    "        \"privatelink.ods.opinsights.azure.com\",\n",
    "        \"privatelink.oms.opinsights.azure.com\",\n",
    "        \"privatelink.pbidedicated.windows.net\",\n",
    "        \"privatelink.postgres.database.azure.com\",\n",
    "        \"privatelink.prod.migration.windowsazure.com\",\n",
    "        \"privatelink.purview.azure.com\",\n",
    "        \"privatelink.purviewstudio.azure.com\",\n",
    "        \"privatelink.queue.core.windows.net\",\n",
    "        \"privatelink.redis.cache.windows.net\",\n",
    "        \"privatelink.redisenterprise.cache.azure.net\",\n",
    "        \"privatelink.search.windows.net\",\n",
    "        \"privatelink.service.signalr.net\",\n",
    "        \"privatelink.servicebus.windows.net\",\n",
    "        \"privatelink.siterecovery.windowsazure.com\",\n",
    "        \"privatelink.sql.azuresynapse.net\",\n",
    "        \"privatelink.table.core.windows.net\",\n",
    "        \"privatelink.table.cosmos.azure.com\",\n",
    "        \"privatelink.tip1.powerquery.microsoft.com\",\n",
    "        \"privatelink.token.botframework.com\",\n",
    "        \"privatelink.vaultcore.azure.net\",\n",
    "        \"privatelink.web.core.windows.net\",\n",
    "        \"privatelink.webpubsub.azure.com\"\n",
    "    )\n",
    "\n",
    "\n",
    "\n",
    "\n",
    "\n",
    "\n",
    "\n",
    "## Hub Networking Configuration Object\n",
    "## ================================================================================\n",
    "$inputObject = @{\n",
    "  parLocation                 = $parLocation\n",
    "  parHubNetworkName           = $parHubNetworkName\n",
    "  parHubNetworkAddressPrefix  = $parHubNetworkAddressPrefix\n",
    "\n",
    "  \n",
    "  DeploymentName        = $parCompanyPrefix + \"-HubNetworkingDeploy-{0}\" -f (-join (Get-Date -Format 'yyyyMMddTHHMMssffffZ')[0..63])\n",
    "  ResourceGroupName     = $myResourceGroupName\n",
    "  parPrivateDnsZones    = $parPrivateDnsZones\n",
    "  TemplateFile          = \"$localRepo/infra-as-code/bicep/modules/hubNetworking/hubNetworking.bicep\"\n",
    "  TemplateParameterFile = \"$localRepo/infra-as-code/bicep/modules/hubNetworking/parameters/hubNetworking.parameters.all.json\"\n",
    "}\n",
    "\n",
    "$inputObject[\"parSubnets\"] = @{ Name = \"AzureBastionSubnet\"; ipAddressRange = \"$AzureBastionSubnet\"}, `\n",
    "                             @{ Name = \"GatewaySubnet\"; ipAddressRange = \"$GatewaySubnet\"}, `\n",
    "                             @{ Name = \"AzureFirewallSubnet\"; ipAddressRange = \"$AzureFirewallSubnet\"}\n",
    "\n",
    "# if ($AzureBastionSubnet) { $inputObject[\"parSubnets\"] = @{ 'name' = \"AzureBastionSubnet\", 'ipAddressRange' = \"$AzureBastionSubnet\" } }\n",
    "\n",
    "$inputObject[\"parVpnGatewayConfig\"] = $parVpnGatewayConfig \n",
    "$inputObject[\"parExpressRouteGatewayConfig\"] = $parExpressRouteGatewayConfig \n",
    "\n",
    "if (!(Get-AzResourceGroup $myResourceGroupName -ErrorAction SilentlyContinue))\n",
    "{ \n",
    "  try \n",
    "  {\n",
    "    Write-Host \"`nCreating the $myResourceGroupName resource group\"\n",
    "    New-AzResourceGroup -Name $myResourceGroupName -Location $parLocation -ErrorAction SilentlyContinue\n",
    "  }\n",
    "  catch \n",
    "  {\n",
    "    Write-Host \"`nThere was an error creaating the $myResourceGroupName resource group\" -ForegroundColor Red\n",
    "    Break\n",
    "  }\n",
    "}\n",
    "else\n",
    "{\n",
    "  Write-Host \"`nThe $myResourceGroupName resource group already exists\"\n",
    "}\n",
    "\n",
    "## Hub Networking TEST Deployment\n",
    "## ================================================================================\n",
    "\n",
    "# DEBUG\n",
    "$inputObject\n",
    "write-host `n\n",
    "# /DEBUG\n",
    "\n",
    "New-AzResourceGroupDeployment @inputObject -Verbose -WhatIf"
   ]
  },
  {
   "cell_type": "code",
   "execution_count": null,
   "metadata": {
    "dotnet_interactive": {
     "language": "pwsh"
    },
    "polyglot_notebook": {
     "kernelName": "pwsh"
    },
    "vscode": {
     "languageId": "polyglot-notebook"
    }
   },
   "outputs": [],
   "source": [
    "## Hub Networking Deployment *THIS IS NOT A TEST*\n",
    "## ================================================================================\n",
    "## NOTE: Test the deployment above and check the output is as expected\n",
    "##\n",
    "New-AzResourceGroupDeployment @inputObject -Verbose\n",
    "\n",
    "## Outputs\n",
    "$parDdosProtectionPlanId = (Get-AzResourceGroupDeployment -ResourceGroupName $myResourceGroupName -Name $inputObject[\"DeploymentName\"]).Outputs.parDdosProtectionPlanId.value\n",
    "$outHubVirtualNetworkId = (Get-AzResourceGroupDeployment -ResourceGroupName $myResourceGroupName -Name $inputObject[\"DeploymentName\"]).Outputs.outHubVirtualNetworkId.value"
   ]
  },
  {
   "attachments": {},
   "cell_type": "markdown",
   "metadata": {
    "dotnet_interactive": {
     "language": "pwsh"
    },
    "polyglot_notebook": {
     "kernelName": "pwsh"
    }
   },
   "source": [
    "### 5.2 Virtual WAN (TO DO)"
   ]
  },
  {
   "cell_type": "markdown",
   "metadata": {
    "dotnet_interactive": {
     "language": "pwsh"
    },
    "polyglot_notebook": {
     "kernelName": "pwsh"
    }
   },
   "source": [
    "\n",
    "Deploys the following resources:  \n",
    "1. Virtual WAN\n",
    "1. Virtual Hub. *The virtual hub is a prerequisite to connect to either a VPN Gateway, an ExpressRoute Gateway or an Azure Firewall to the virtual WAN*\n",
    "1. VPN Gateway\n",
    "1. ExpressRoute Gateway\n",
    "1. Azure Firewall\n",
    "1. Azure Firewall policy\n",
    "1. DDoS Network Protection Plan\n",
    "1. Private DNS Zones"
   ]
  },
  {
   "cell_type": "code",
   "execution_count": null,
   "metadata": {
    "dotnet_interactive": {
     "language": "pwsh"
    },
    "polyglot_notebook": {
     "kernelName": "pwsh"
    },
    "vscode": {
     "languageId": "polyglot-notebook"
    }
   },
   "outputs": [],
   "source": [
    "## HUB NETWORKING - Virtual WAN (vWAN)\n",
    "## ================================================================================\n",
    "\n",
    "## ================================================================================\n",
    "## NOTE: Run Hub Networking Setup\n",
    "## ================================================================================\n",
    "\n",
    "## Parameters\n",
    "## --------------------------------------------------------------------------------\n",
    "$parVirtualHubAddressPrefix = \"10.100.0.0/23\"\n",
    "\n",
    "$parAzFirewallTier = \"Standard\"\n",
    "$parVirtualHubEnabled = 1\n",
    "$parVpnGatewayEnabled = 1\n",
    "$parExpressRouteGatewayEnabled = 1\n",
    "$parAzFirewallEnabled = 1\n",
    "$parAzFirewallDnsProxyEnabled = 1\n",
    "\n",
    "$parVirtualWanName = $parCompanyPrefix + \"-vwan-\" + $parLocation\n",
    "$parVirtualWanHubName = $parCompanyPrefix + \"-vwan-\" + $parLocation\n",
    "\n",
    "$parVpnGatewayName = $parCompanyPrefix + \"-vpngw-\" + $parLocation\n",
    "$parExpressRouteGatewayName = $parCompanyPrefix + \"-ergw-\" + $parLocation\n",
    "$parAzFirewallName = $parCompanyPrefix + \"-fw-\" + $parLocation\n",
    "\n",
    "$parAzFirewallAvailabilityZones = @{}\n",
    "\n",
    "$parAzFirewallPoliciesName = $parCompanyPrefix + \"-azfwpolicy-\" + $parLocation\n",
    "\n",
    "$parVpnGatewayScaleUnit = 1\n",
    "$parExpressRouteGatewayScaleUnit = 1\n",
    "$parDdosEnabled = 1\n",
    "$parDdosPlanName = $parCompanyPrefix + \"-azfwpolicy-\" + $parLocation\n",
    "\n",
    "$parPrivateDnsZonesEnabled = 1\n",
    "$parPrivateDnsZones = $parPrivateDnsZones\n",
    "\n",
    "### TO SORT\n",
    "$parVirtualNetworkIdToLink\": {\n",
    "      \"value\": \"/subscriptions/xxxxxxxx-xxxx-xxxx-xxxx-xxxxxxxxxxxx/resourceGroups/HUB_Networking_POC/providers/Microsoft.Network/virtualNetworks/alz-hub-eastus\"\n"
   ]
  },
  {
   "cell_type": "code",
   "execution_count": null,
   "metadata": {
    "dotnet_interactive": {
     "language": "pwsh"
    },
    "polyglot_notebook": {
     "kernelName": "pwsh"
    },
    "vscode": {
     "languageId": "polyglot-notebook"
    }
   },
   "outputs": [],
   "source": [
    "if (!$ConnectivitySubscriptionId) { $ConnectivitySubscriptionId = $PlatformSubscriptionId }\n",
    "\n",
    "Select-AzSubscription -SubscriptionId $ConnectivitySubscriptionId\n",
    "\n",
    "$TopLevelMGPrefix     = $parCompanyPrefix\n",
    "$myResourceGroupName  = \"rg-$TopLevelMGPrefix-hub-networking-001\"\n",
    "\n",
    "# Parameters necessary for deployment\n",
    "$inputObject = @{\n",
    "  DeploymentName        = $parCompanyPrefix + \"-vwanConnectivityDeploy-{0}\" -f (-join (Get-Date -Format 'yyyyMMddTHHMMssffffZ')[0..63])\n",
    "  ResourceGroupName     = $myResourceGroupName\n",
    "  TemplateFile          = \"$localRepo/infra-as-code/bicep/modules/vwanConnectivity/vwanConnectivity.bicep\"\n",
    "  TemplateParameterFile = \"$localRepo/infra-as-code/bicep/modules/vwanConnectivity/parameters/vwanConnectivity.parameters.all.json\"\n",
    "}\n",
    "\n",
    "if (!(Get-AzResourceGroup $myResourceGroupName -ErrorAction SilentlyContinue))\n",
    "{ \n",
    "  try \n",
    "  {\n",
    "    Write-Host \"`nCreating the $myResourceGroupName resource group\"\n",
    "    New-AzResourceGroup -Name $myResourceGroupName -Location $parLocation -ErrorAction SilentlyContinue\n",
    "  }\n",
    "  catch \n",
    "  {\n",
    "    Write-Host \"`nThere was an error creaating the $myResourceGroupName resource group\" -ForegroundColor Red\n",
    "    Break\n",
    "  }\n",
    "}\n",
    "else\n",
    "{\n",
    "  Write-Host \"`nThe $myResourceGroupName resource group already exists\"\n",
    "}\n",
    "\n",
    "$inputObject\n",
    "write-host `n\n",
    "\n",
    "# Test Deploy\n",
    "New-AzResourceGroupDeployment @inputObject -Verbose -WhatIf"
   ]
  },
  {
   "attachments": {},
   "cell_type": "markdown",
   "metadata": {
    "dotnet_interactive": {
     "language": "pwsh"
    },
    "polyglot_notebook": {
     "kernelName": "pwsh"
    }
   },
   "source": [
    "## 6 RBAC Role Assignments (TO DO)"
   ]
  },
  {
   "attachments": {},
   "cell_type": "markdown",
   "metadata": {
    "dotnet_interactive": {
     "language": "pwsh"
    },
    "polyglot_notebook": {
     "kernelName": "pwsh"
    }
   },
   "source": [
    "Creates role assignments using built-in and custom role definitions.  \n",
    "**Prerequisites:** Management Groups & Subscriptions.  \n",
    "https://github.com/Azure/ALZ-Bicep/tree/main/infra-as-code/bicep/modules/roleAssignments"
   ]
  },
  {
   "attachments": {},
   "cell_type": "markdown",
   "metadata": {
    "dotnet_interactive": {
     "language": "pwsh"
    },
    "polyglot_notebook": {
     "kernelName": "pwsh"
    }
   },
   "source": [
    "Role assignments can be performed for:\n",
    "- Managed Identities (System and User Assigned)\n",
    "- Service Principals\n",
    "- Security Groups"
   ]
  },
  {
   "cell_type": "code",
   "execution_count": null,
   "metadata": {
    "dotnet_interactive": {
     "language": "pwsh"
    },
    "polyglot_notebook": {
     "kernelName": "pwsh"
    },
    "vscode": {
     "languageId": "polyglot-notebook"
    }
   },
   "outputs": [],
   "source": [
    "# Identify Object Id for User Assigned / System Assigned Managed Identity\n",
    "# Example: (Get-AzADServicePrincipal -DisplayName 'alz-managed-identity').Id\n",
    "\n",
    "(Get-AzADServicePrincipal -DisplayName '<IDENTITY_NAME>').Id"
   ]
  },
  {
   "cell_type": "code",
   "execution_count": null,
   "metadata": {
    "dotnet_interactive": {
     "language": "pwsh"
    },
    "polyglot_notebook": {
     "kernelName": "pwsh"
    },
    "vscode": {
     "languageId": "polyglot-notebook"
    }
   },
   "outputs": [],
   "source": [
    "# Identify Object Id for Service Principal (App Registration)\n",
    "# Require read permission to query Azure Active Directory\n",
    "# Example:  (Get-AzADServicePrincipal -DisplayName 'Azure Landing Zone SPN').Id\n",
    "\n",
    "(Get-AzADServicePrincipal -DisplayName '<APP_REGISTRATION_DISPLAY_NAME>').Id"
   ]
  },
  {
   "cell_type": "code",
   "execution_count": null,
   "metadata": {
    "dotnet_interactive": {
     "language": "pwsh"
    },
    "polyglot_notebook": {
     "kernelName": "pwsh"
    },
    "vscode": {
     "languageId": "polyglot-notebook"
    }
   },
   "outputs": [],
   "source": [
    "# Identify Object Id for Security Group\n",
    "# Require read permission to query Azure Active Directory\n",
    "# Example: Get-AzureADGroup -SearchString 'SG_ALZ_SECURITY'\n",
    "\n",
    "Connect-AzureAD\n",
    "(Get-AzureADGroup -SearchString '<SECURITY_GROUP_NAME>').ObjectId"
   ]
  },
  {
   "attachments": {},
   "cell_type": "markdown",
   "metadata": {
    "dotnet_interactive": {
     "language": "pwsh"
    },
    "polyglot_notebook": {
     "kernelName": "pwsh"
    }
   },
   "source": [
    "### 6.1 Assignment to Management Groups (In Progress)"
   ]
  },
  {
   "cell_type": "code",
   "execution_count": null,
   "metadata": {
    "dotnet_interactive": {
     "language": "pwsh"
    },
    "polyglot_notebook": {
     "kernelName": "pwsh"
    },
    "vscode": {
     "languageId": "polyglot-notebook"
    }
   },
   "outputs": [],
   "source": [
    "# roleAssignmentManagementGroup.managedIdentity\n",
    "\n",
    "$parRoleAssignmentNameGuid =  \"xxxxxxxx-xxxx-xxxx-xxxx-xxxxxxxxxxxx\"\n",
    "$parRoleDefinitionId = \"xxxxxxxx-xxxx-xxxx-xxxx-xxxxxxxxxxxx\"\n",
    "\n",
    "$parAssigneePrincipalType = \"ServicePrincipal\"   # managedIdentity and servicePrincipal\n",
    "#$parAssigneePrincipalType = \"Group\"             # Security Groups\n",
    "\n",
    "$parAssigneeObjectId = \"xxxxxxxx-xxxx-xxxx-xxxx-xxxxxxxxxxxx\"\n",
    "## Note: Object ID of groups, service principals or managed identities. For managed identities use the principal id. For service principals, use the object ID and not the app ID"
   ]
  },
  {
   "cell_type": "code",
   "execution_count": null,
   "metadata": {
    "dotnet_interactive": {
     "language": "pwsh"
    },
    "polyglot_notebook": {
     "kernelName": "pwsh"
    },
    "vscode": {
     "languageId": "polyglot-notebook"
    }
   },
   "outputs": [],
   "source": [
    "  \"parameters\": {\n",
    "    \"parManagementGroupIds\": {\n",
    "      \"value\": [\n",
    "        \"alz-platform-connectivity\",\n",
    "        \"alz-platform-identity\"\n",
    "      ]\n",
    "    },\n",
    "\n",
    "parameters\": {\n",
    "    \"parResourceGroupIds\": {\n",
    "      \"value\": [\n",
    "        \"xxxxxxxx-xxxx-xxxx-xxxx-xxxxxxxxxxxx/xxxxxxx\",\n",
    "        \"xxxxxxxx-xxxx-xxxx-xxxx-xxxxxxxxxxxx/xxxxxxx\"\n",
    "      ]\n",
    "    }\n",
    "\n",
    "\n",
    "\n",
    "\n",
    "      \"parameters\": {\n",
    "    \"parSubscriptionIds\": {\n",
    "      \"value\": [\n",
    "        \"xxxxxxxx-xxxx-xxxx-xxxx-xxxxxxxxxxxx\",\n",
    "        \"xxxxxxxx-xxxx-xxxx-xxxx-xxxxxxxxxxxx\"\n",
    "      ]\n",
    "    },"
   ]
  },
  {
   "cell_type": "code",
   "execution_count": null,
   "metadata": {
    "dotnet_interactive": {
     "language": "pwsh"
    },
    "polyglot_notebook": {
     "kernelName": "pwsh"
    },
    "vscode": {
     "languageId": "polyglot-notebook"
    }
   },
   "outputs": [],
   "source": [
    "$inputObject = @{\n",
    "  DeploymentName        = 'alz-RoleAssignmentsDeployment-{0}' -f (-join (Get-Date -Format 'yyyyMMddTHHMMssffffZ')[0..63])\n",
    "  Location              = 'eastus'\n",
    "  ManagementGroupId     = 'alz'\n",
    "  TemplateFile          = \"infra-as-code/bicep/modules/roleAssignments/roleAssignmentManagementGroup.bicep\"\n",
    "  TemplateParameterFile = 'infra-as-code/bicep/modules/roleAssignments/parameters/roleAssignmentManagementGroup.servicePrincipal.parameters.all.json'\n",
    "}\n",
    "\n",
    "New-AzManagementGroupDeployment @inputObject"
   ]
  },
  {
   "attachments": {},
   "cell_type": "markdown",
   "metadata": {
    "dotnet_interactive": {
     "language": "pwsh"
    },
    "polyglot_notebook": {
     "kernelName": "pwsh"
    }
   },
   "source": [
    "### 6.2 Assignment to Subscriptions"
   ]
  },
  {
   "attachments": {},
   "cell_type": "markdown",
   "metadata": {
    "dotnet_interactive": {
     "language": "pwsh"
    },
    "polyglot_notebook": {
     "kernelName": "pwsh"
    }
   },
   "source": [
    "### 6.2 Assignment to Resource Groups"
   ]
  },
  {
   "cell_type": "code",
   "execution_count": null,
   "metadata": {
    "dotnet_interactive": {
     "language": "pwsh"
    },
    "polyglot_notebook": {
     "kernelName": "pwsh"
    },
    "vscode": {
     "languageId": "polyglot-notebook"
    }
   },
   "outputs": [],
   "source": [
    "# Identify Object Id for User Assigned / System Assigned Managed Identity\n",
    "# Example: (Get-AzADServicePrincipal -DisplayName 'alz-managed-identity').Id\n",
    "(Get-AzADServicePrincipal -DisplayName '<IDENTITY_NAME>').Id\n",
    "\n",
    "# Identify Object Id for Service Principal (App Registration)\n",
    "# Require read permission to query Azure Active Directory\n",
    "# Example:  (Get-AzADServicePrincipal -DisplayName 'Azure Landing Zone SPN').Id\n",
    "(Get-AzADServicePrincipal -DisplayName '<APP_REGISTRATION_DISPLAY_NAME>').Id\n",
    "\n",
    "# Identify Object Id for Security Group\n",
    "# Require read permission to query Azure Active Directory\n",
    "# Example: Get-AzureADGroup -SearchString 'SG_ALZ_SECURITY'\n",
    "Connect-AzureAD\n",
    "(Get-AzureADGroup -SearchString '<SECURITY_GROUP_NAME>').ObjectId"
   ]
  },
  {
   "cell_type": "code",
   "execution_count": null,
   "metadata": {
    "dotnet_interactive": {
     "language": "pwsh"
    },
    "polyglot_notebook": {
     "kernelName": "pwsh"
    },
    "vscode": {
     "languageId": "polyglot-notebook"
    }
   },
   "outputs": [],
   "source": [
    "//\n",
    "// Baseline deployment sample\n",
    "//\n",
    "\n",
    "// Use this sample to deploy the minimum resource configuration.\n",
    "\n",
    "targetScope = 'managementGroup'\n",
    "\n",
    "// ----------\n",
    "// PARAMETERS\n",
    "// ----------\n",
    "var roleDefinitionId = '/providers/Microsoft.Authorization/roleDefinitions/8e3af657-a8ff-443c-a75c-2fe8c4bcb635'\n",
    "var assigneeObjectId = '00000000-0000-0000-0000-000000000000'\n",
    "// ---------\n",
    "// RESOURCES\n",
    "// ---------\n",
    "\n",
    "@description('Baseline resource configuration.')\n",
    "module baseline_ra '../roleAssignmentManagementGroup.bicep' = {\n",
    "  name: 'baseline_ra'\n",
    "  params: {\n",
    "    parRoleDefinitionId: roleDefinitionId\n",
    "    parAssigneePrincipalType: 'Group'\n",
    "    parAssigneeObjectId: assigneeObjectId\n",
    "    parTelemetryOptOut: true\n",
    "    parRoleAssignmentNameGuid: guid(managementGroup().name, roleDefinitionId, assigneeObjectId)\n",
    "  }\n",
    "}"
   ]
  },
  {
   "cell_type": "code",
   "execution_count": null,
   "metadata": {
    "dotnet_interactive": {
     "language": "pwsh"
    },
    "polyglot_notebook": {
     "kernelName": "pwsh"
    },
    "vscode": {
     "languageId": "polyglot-notebook"
    }
   },
   "outputs": [],
   "source": [
    "## ROLE ASSIGNMENTS\n",
    "## ================================================================================\n",
    "\n",
    "## Parameters\n",
    "## --------------------------------------------------------------------------------\n",
    "\n",
    "$parRoleAssignmentNameGuid = \"xxxxxxxx-xxxx-xxxx-xxxx-xxxxxxxxxxxx\"\n",
    "$parRoleDefinitionId = \"xxxxxxxx-xxxx-xxxx-xxxx-xxxxxxxxxxxx\"\n",
    "$parAssigneePrincipalType = \"ServicePrincipal\"          #Allowed values are 'Group' (Security Group) or 'ServicePrincipal' (Service Principal or System/User Assigned Managed Identity)\n",
    "$parAssigneeObjectId = \"xxxxxxxx-xxxx-xxxx-xxxx-xxxxxxxxxxxx\""
   ]
  },
  {
   "cell_type": "code",
   "execution_count": null,
   "metadata": {
    "dotnet_interactive": {
     "language": "pwsh"
    },
    "polyglot_notebook": {
     "kernelName": "pwsh"
    },
    "vscode": {
     "languageId": "polyglot-notebook"
    }
   },
   "outputs": [],
   "source": [
    "## ROLE ASSIGNMENTS\n",
    "## ================================================================================\n",
    "## Management Group\n",
    "\n",
    "## Role Assignment Config Object\n",
    "## ================================================================================\n",
    "$inputObject = @{\n",
    "  DeploymentName        = $parCompanyPrefix + \"alz-RoleAssignmentsDeployment-{0}\" -f (-join (Get-Date -Format 'yyyyMMddTHHMMssffffZ')[0..63])\n",
    "  Location              = $parLocation\n",
    "  ManagementGroupId     = $parCompanyPrefix\n",
    "  TemplateFile          = \"$localRepo\\infra-as-code/bicep/modules/roleAssignments/roleAssignmentManagementGroup.bicep\"\n",
    "  TemplateParameterFile = \"$localRepo\\infra-as-code/bicep/modules/roleAssignments/parameters/roleAssignmentManagementGroup.servicePrincipal.parameters.all.json\"\n",
    "}\n",
    "\n",
    "\n",
    "New-AzManagementGroupDeployment @inputObject -Verbose -WhatIf"
   ]
  },
  {
   "attachments": {},
   "cell_type": "markdown",
   "metadata": {
    "dotnet_interactive": {
     "language": "pwsh"
    },
    "polyglot_notebook": {
     "kernelName": "pwsh"
    }
   },
   "source": [
    "## 7 Subscription Placement"
   ]
  },
  {
   "cell_type": "markdown",
   "metadata": {
    "dotnet_interactive": {
     "language": "pwsh"
    },
    "polyglot_notebook": {
     "kernelName": "pwsh"
    }
   },
   "source": [
    "Moves one or more subscriptions (based on IDs) to the target Management Groups in your ALZ hierarchy.  \n",
    "**Prerequisites:** Management Groups & Subscriptions.   \n",
    "https://github.com/Azure/ALZ-Bicep/tree/main/infra-as-code/bicep/orchestration/subPlacementAll"
   ]
  },
  {
   "cell_type": "code",
   "execution_count": null,
   "metadata": {
    "dotnet_interactive": {
     "language": "pwsh"
    },
    "polyglot_notebook": {
     "kernelName": "pwsh"
    },
    "tags": [],
    "vscode": {
     "languageId": "polyglot-notebook"
    }
   },
   "outputs": [],
   "source": [
    "## SUBSCRRIPTION PLACEMENT\n",
    "## ================================================================================\n",
    "## Subscription info \n",
    "\n",
    "$inputObject = @{\n",
    "  DeploymentName                          = $parCompanyPrefix + \"-SubPlacementAll-{0}\" -f (-join (Get-Date -Format 'yyyyMMddTHHMMssffffZ')[0..63])\n",
    "  Location                                = $parLocation\n",
    "  ManagementGroupId                       = $parCompanyPrefix\n",
    "  TemplateFile                            = \"$localRepo\\infra-as-code/bicep/orchestration/subPlacementAll/subPlacementAll.bicep\"\n",
    "  TemplateParameterFile                   = \"$localRepo\\infra-as-code/bicep/orchestration/subPlacementAll/parameters/subPlacementAll.parameters.all.json\"\n",
    "  parTopLevelManagementGroupPrefix        = $parCompanyPrefix\n",
    "  parIntRootMgSubs                        = $parIntRootMgSubs\n",
    "  parPlatformMgSubs                       = $parPlatformMgSubs\n",
    "  parPlatformManagementMgSubs             = $parPlatformManagementMgSubs\n",
    "  parPlatformConnectivityMgSubs           = $parPlatformConnectivityMgSubs\n",
    "  parPlatformIdentityMgSubs               = $parPlatformIdentityMgSubs\n",
    "  parLandingZonesMgSubs                   = $parLandingZonesMgSubs\n",
    "  parLandingZonesCorpMgSubs               = $parLandingZonesCorpMgSubs\n",
    "  parLandingZonesOnlineMgSubs             = $parLandingZonesOnlineMgSubs\n",
    "  parLandingZonesConfidentialCorpMgSubs   = $parLandingZonesConfidentialCorpMgSubs\n",
    "  parLandingZonesConfidentialOnlineMgSubs = $parLandingZonesConfidentialOnlineMgSubs\n",
    "  parLandingZoneMgChildrenSubs            = $parLandingZoneMgChildrenSubs\n",
    "  parDecommissionedMgSubs                 = $parDecommissionedMgSubs\n",
    "  parSandboxMgSubs                        = $parSandboxMgSubs\n",
    "}\n",
    "\n",
    "# DEBUG\n",
    "# $inputObject[\"parLandingZoneMgChildrenSubs\"]\n",
    "# Write-Host \"`n\"\n",
    "# /DEBUG\n",
    "\n",
    "## Test Deployment\n",
    "New-AzManagementGroupDeployment @inputObject -Verbose -WhatIf"
   ]
  },
  {
   "cell_type": "code",
   "execution_count": null,
   "metadata": {
    "dotnet_interactive": {
     "language": "pwsh"
    },
    "polyglot_notebook": {
     "kernelName": "pwsh"
    },
    "vscode": {
     "languageId": "polyglot-notebook"
    }
   },
   "outputs": [],
   "source": [
    "## Deploy\n",
    "New-AzManagementGroupDeployment @inputObject -Verbose"
   ]
  },
  {
   "attachments": {},
   "cell_type": "markdown",
   "metadata": {
    "dotnet_interactive": {
     "language": "pwsh"
    },
    "polyglot_notebook": {
     "kernelName": "pwsh"
    }
   },
   "source": [
    "## 8 Built-In and Custom Policy Assignments"
   ]
  },
  {
   "cell_type": "markdown",
   "metadata": {
    "dotnet_interactive": {
     "language": "pwsh"
    },
    "polyglot_notebook": {
     "kernelName": "pwsh"
    }
   },
   "source": [
    "Creates policy assignments to provide governance at scale.  \n",
    "**Prerequisites:** Management Groups, Log Analytics Workspace & Custom Policy Definitions "
   ]
  },
  {
   "cell_type": "code",
   "execution_count": null,
   "metadata": {
    "dotnet_interactive": {
     "language": "pwsh"
    },
    "polyglot_notebook": {
     "kernelName": "pwsh"
    },
    "vscode": {
     "languageId": "polyglot-notebook"
    }
   },
   "outputs": [],
   "source": [
    "## Built-In and Custom Policy Assignments Deployment\n",
    "## ================================================================================\n",
    "\n",
    "$parMsDefenderForCloudEmailSecurityContact = \"security_contact@example.com\"\n",
    "\n",
    "$inputObject = @{\n",
    "  DeploymentName        = $parCompanyPrefix + \"-alzPolicyAssignmentDefaultsDeployment-{0}\" -f (-join (Get-Date -Format 'yyyyMMddTHHMMssffffZ')[0..63])\n",
    "  Location              = $parLocation\n",
    "  ManagementGroupId     = $parCompanyPrefix\n",
    "  parLogAnalyticsWorkspaceResourceId  = $parLogAnalyticsWorkspaceResourceId\n",
    "  TemplateFile          = \"$localRepo\\infra-as-code/bicep/modules/policy/assignments/alzDefaults/alzDefaultPolicyAssignments.bicep\"\n",
    "  TemplateParameterFile = \"$localRepo\\infra-as-code/bicep/modules/policy/assignments/alzDefaults/parameters/alzDefaultPolicyAssignments.parameters.all.json\"\n",
    "}\n",
    "\n",
    "if ($parLogAnalyticsWorkspaceLogRetentionInDays) { $inputObject[\"parLogAnalyticsWorkspaceLogRetentionInDays\"] = $parLogAnalyticsWorkspaceLogRetentionInDays }\n",
    "if ($parAutomationAccountName) { $inputObject[\"parAutomationAccountName\"] = $parAutomationAccountName }\n",
    "if ($parMsDefenderForCloudEmailSecurityContact) { $inputObject[\"parMsDefenderForCloudEmailSecurityContact\"] = $parMsDefenderForCloudEmailSecurityContact }\n",
    "if ($parDdosProtectionPlanId) { $inputObject[\"parDdosProtectionPlanId\"] = $parDdosProtectionPlanId }\n",
    "\n",
    "New-AzManagementGroupDeployment @inputObject -Verbose -WhatIf"
   ]
  },
  {
   "cell_type": "code",
   "execution_count": null,
   "metadata": {
    "dotnet_interactive": {
     "language": "pwsh"
    },
    "polyglot_notebook": {
     "kernelName": "pwsh"
    },
    "vscode": {
     "languageId": "polyglot-notebook"
    }
   },
   "outputs": [],
   "source": [
    "## Built-In and Custom Policy Assignments Deployment *THIS IS NOT A TEST*\n",
    "## ================================================================================\n",
    "## NOTE: Test the deployment above and check the output is as expected\n",
    "##\n",
    "New-AzResourceGroupDeployment @inputObject -Verbose"
   ]
  },
  {
   "attachments": {},
   "cell_type": "markdown",
   "metadata": {
    "dotnet_interactive": {
     "language": "pwsh"
    },
    "polyglot_notebook": {
     "kernelName": "pwsh"
    }
   },
   "source": [
    "## 9 Spoke Networking"
   ]
  },
  {
   "attachments": {},
   "cell_type": "markdown",
   "metadata": {
    "dotnet_interactive": {
     "language": "pwsh"
    },
    "polyglot_notebook": {
     "kernelName": "pwsh"
    }
   },
   "source": [
    "Creates Spoke networking infrastructure for workloads with Virtual Network Peering (optional) to support Hub & Spoke network topology or Virtual Hub Connection (optional).  \n",
    "**Prerequisites:** Management Groups, Hub Networking & Subscription for spoke networking  \n",
    "https://github.com/Azure/ALZ-Bicep/tree/main/infra-as-code/bicep/orchestration/hubPeeredSpoke"
   ]
  },
  {
   "cell_type": "code",
   "execution_count": null,
   "metadata": {
    "dotnet_interactive": {
     "language": "pwsh"
    },
    "polyglot_notebook": {
     "kernelName": "pwsh"
    },
    "vscode": {
     "languageId": "polyglot-notebook"
    }
   },
   "outputs": [],
   "source": [
    "## SPOKE NETWORKING\n",
    "## ================================================================================\n",
    "\n",
    "## Parameters\n",
    "## --------------------------------------------------------------------------------\n",
    "$parLocation                            = $parLocation\n",
    "$parTopLevelManagementGroupPrefix       = $parCompanyPrefix\n",
    "\n",
    "$parPeeredVnetSubscriptionId            = $ConnectivitySubscriptionId\n",
    "$parPeeredVnetSubscriptionMgPlacement   = $parCompanyPrefix + \"-platform-connectivity\"\n",
    "\n",
    "$parSpokeNetworkName                    = \"vnet-spoke\"\n",
    "$parSpokeNetworkAddressPrefix           = \"10.11.0.0/16\"\n",
    "$parDnsServerIps                        = @()\n",
    "$parNextHopIpAddress                    = \"\"\n",
    "$parDisableBgpRoutePropagation          = 0\n",
    "\n",
    "$parSpoketoHubRouteTableName            = \"rtb-spoke-to-hub\"\n",
    "$parHubVirtualNetworkId                 = $outHubVirtualNetworkId\n",
    "\n",
    "$parAllowSpokeForwardedTraffic          = 0\n",
    "$parAllowHubVPNGatewayTransit           = 1"
   ]
  },
  {
   "cell_type": "code",
   "execution_count": null,
   "metadata": {
    "dotnet_interactive": {
     "language": "pwsh"
    },
    "polyglot_notebook": {
     "kernelName": "pwsh"
    },
    "vscode": {
     "languageId": "polyglot-notebook"
    }
   },
   "outputs": [],
   "source": [
    "$inputObject = @{\n",
    "  DeploymentName        = $parCompanyPrefix + \"HubPeeredSpoke-{0}\" -f (-join (Get-Date -Format 'yyyyMMddTHHMMssffffZ')[0..63])\n",
    "  Location              = $parLocation\n",
    "  ManagementGroupId     = $parCompanyPrefix\n",
    "  TemplateFile          = \"$localRepo\\infra-as-code/bicep/orchestration/hubPeeredSpoke/hubPeeredSpoke.bicep\"\n",
    "  TemplateParameterFile = \"$localRepo\\infra-as-code/bicep/orchestration/hubPeeredSpoke/parameters/hubPeeredSpoke.parameters.all.json\"\n",
    "}\n",
    "\n",
    "if ($parDdosProtectionPlanId) { $inputObject[\"parDdosProtectionPlanId\"] = $parDdosProtectionPlanId }\n",
    "\n",
    "## Spoke Networking TEST Deployment\n",
    "## ================================================================================\n",
    "$inputObject\n",
    "write-host `n\n",
    "\n",
    "New-AzManagementGroupDeployment @inputObject -Verbose -WhatIf"
   ]
  },
  {
   "cell_type": "code",
   "execution_count": null,
   "metadata": {
    "dotnet_interactive": {
     "language": "pwsh"
    },
    "polyglot_notebook": {
     "kernelName": "pwsh"
    },
    "vscode": {
     "languageId": "polyglot-notebook"
    }
   },
   "outputs": [],
   "source": [
    "## Spoke Networking Deployment *THIS IS NOT A TEST*\n",
    "## ================================================================================\n",
    "## NOTE: Test the deployment above and check the output is as expected\n",
    "##\n",
    "New-AzManagementGroupDeployment @inputObject -Verbose"
   ]
  }
 ],
 "metadata": {
  "kernelspec": {
   "display_name": ".NET (C#)",
   "language": "C#",
   "name": ".net-csharp"
  },
  "polyglot_notebook": {
   "kernelInfo": {
    "defaultKernelName": "csharp",
    "items": [
     {
      "aliases": [],
      "name": "csharp"
     }
    ]
   }
  }
 },
 "nbformat": 4,
 "nbformat_minor": 2
}
